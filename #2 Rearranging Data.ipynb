{
 "cells": [
  {
   "cell_type": "code",
   "execution_count": 1,
   "metadata": {},
   "outputs": [],
   "source": [
    "import pandas as pd\n",
    "import re\n",
    "import json"
   ]
  },
  {
   "cell_type": "code",
   "execution_count": 2,
   "metadata": {},
   "outputs": [],
   "source": [
    "with open(\"animals'_raw.txt\", mode = \"r\") as f:\n",
    "    animals_json = f.read()\n",
    "    \n",
    "animals_raw = json.loads(animals_json)"
   ]
  },
  {
   "cell_type": "code",
   "execution_count": 3,
   "metadata": {},
   "outputs": [],
   "source": [
    "#Manual modifying was required because the 'Continents' column contained states within Australia and United States and not continents.\n",
    "animals_raw[480][\"Continents\"] = [\"Oceania\", \"North America\"]"
   ]
  },
  {
   "cell_type": "code",
   "execution_count": 4,
   "metadata": {},
   "outputs": [
    {
     "data": {
      "text/plain": [
       "'Insectivores'"
      ]
     },
     "execution_count": 4,
     "metadata": {},
     "output_type": "execute_result"
    }
   ],
   "source": [
    "#DO NOT RUN THIS CELL TWICE!\n",
    "animals_raw[377][\"Diet\"].pop()"
   ]
  },
  {
   "cell_type": "markdown",
   "metadata": {},
   "source": [
    "## Animal's general information"
   ]
  },
  {
   "cell_type": "code",
   "execution_count": 5,
   "metadata": {},
   "outputs": [],
   "source": [
    "animals_name = []\n",
    "animals_class = []\n",
    "animals_family = []\n",
    "animals_scientific_name = []\n",
    "\n",
    "for animal in animals_raw:\n",
    "    animals_name.append(animal[\"Name\"])\n",
    "    animals_class.append(animal[\"Class\"])\n",
    "    animals_family.append(animal[\"Family\"])\n",
    "    animals_scientific_name.append(animal[\"SPECIES\"])"
   ]
  },
  {
   "cell_type": "markdown",
   "metadata": {},
   "source": [
    "## Conversion of string numerical values into numerical values"
   ]
  },
  {
   "cell_type": "code",
   "execution_count": 6,
   "metadata": {},
   "outputs": [],
   "source": [
    "animals_lifespan = []\n",
    "animals_topspeed = []\n",
    "animals_weight = []\n",
    "animals_length = []\n",
    "\n",
    "for animal in animals_raw:\n",
    "    '''\n",
    "    Animal's lifespan (years)\n",
    "    '''\n",
    "    try:\n",
    "        animal_lifespan = animal[\"Life Span\"]\n",
    "        lifespan_template1 = r\"^(\\d*)\"\n",
    "        lifespan_template2 = r\"-(\\d*)\"\n",
    "        lifespan_template1_search = re.findall(lifespan_template1, animal_lifespan)\n",
    "        lifespan_template2_search = re.findall(lifespan_template2, animal_lifespan)\n",
    "\n",
    "        if lifespan_template2_search:\n",
    "            mean = (float(lifespan_template1_search[0]) + float(lifespan_template2_search[0])) / 2\n",
    "\n",
    "        else:\n",
    "            mean = float(lifespan_template1_search[0])\n",
    "\n",
    "        animals_lifespan.append(round(mean, 2))\n",
    "\n",
    "    except:\n",
    "        animals_lifespan.append(None)\n",
    "        \n",
    "    '''\n",
    "    Animal's top speed (km/h)\n",
    "    '''\n",
    "    try:\n",
    "        animal_topspeed = animal[\"TOP SPEED\"]\n",
    "        topspeed_template1 = r\"^(\\d*)\"\n",
    "        topspeed_template2 = r\"-(\\d*)\"\n",
    "        topspeed_template1_search = re.findall(topspeed_template1, animal_topspeed)\n",
    "        topspeed_template2_search = re.findall(topspeed_template2, animal_topspeed)\n",
    "        \n",
    "        if topspeed_template2_search:\n",
    "            mean = (float(topspeed_template1_search[0]) + float(topspeed_template2_search[0])) / 2\n",
    "\n",
    "        else:\n",
    "            mean = float(topspeed_template1_search[0])\n",
    "\n",
    "        animals_topspeed.append(round(mean, 2))\n",
    "\n",
    "    except:\n",
    "        animals_topspeed.append(None)\n",
    "        \n",
    "    '''\n",
    "    Animal's weight (kg)\n",
    "    '''\n",
    "    try:\n",
    "        animal_weight = animal[\"WEIGHT\"]\n",
    "        weight_template1 = r\"^(\\d*)\"\n",
    "        weight_template2 = r\"-(\\d*)\"\n",
    "        weight_template1_search = re.findall(weight_template1, animal_weight)\n",
    "        weight_template2_search = re.findall(weight_template2, animal_weight)\n",
    "        \n",
    "        weight_classification_template = r\"([a-z]*)$\"\n",
    "        weight_classification_template_search = re.findall(weight_classification_template, animal_weight)\n",
    "        \n",
    "        if weight_template2_search:\n",
    "            mean = (float(weight_template1_search[0]) + float(weight_template2_search[0])) / 2\n",
    "\n",
    "        else:\n",
    "            mean = float(weight_template1_search[0])\n",
    "            \n",
    "        if weight_classification_template_search:\n",
    "            if weight_classification_template_search[0] == \"g\":\n",
    "                mean = mean / 1000\n",
    "                \n",
    "            elif weight_classification_template_search[0] == \"t\":\n",
    "                mean = mean * 1000\n",
    "                \n",
    "        animals_weight.append(round(mean, 3))\n",
    "        \n",
    "    except:\n",
    "        animals_weight.append(None)\n",
    "        \n",
    "    '''\n",
    "    Animal's length (cm)\n",
    "    '''\n",
    "    try:\n",
    "        animal_length = animal[\"LENGTH\"]\n",
    "        length_template1 = r\"^(\\d*)\"\n",
    "        length_template2 = r\"-(\\d*)\"\n",
    "        length_template1_search = re.findall(length_template1, animal_length)\n",
    "        length_template2_search = re.findall(length_template2, animal_length)\n",
    "        \n",
    "        length_classification_template = r\"([a-z]*)$\"\n",
    "        length_classification_template_search = re.findall(length_classification_template, animal_length)\n",
    "        \n",
    "        if length_template2_search:\n",
    "            mean = (float(length_template1_search[0]) + float(length_template2_search[0])) / 2\n",
    "\n",
    "        else:\n",
    "            mean = float(length_template1_search[0])\n",
    "            \n",
    "        if length_classification_template_search:\n",
    "            if length_classification_template_search[0] == \"m\":\n",
    "                mean = mean * 100\n",
    "                \n",
    "            elif length_classification_template_search[0] == \"mm\":\n",
    "                mean = mean / 10\n",
    "        \n",
    "        animals_length.append(mean)\n",
    "        \n",
    "    except:\n",
    "        animals_length.append(None)"
   ]
  },
  {
   "cell_type": "markdown",
   "metadata": {},
   "source": [
    "## Encoding of the rest categorical values"
   ]
  },
  {
   "cell_type": "code",
   "execution_count": 7,
   "metadata": {},
   "outputs": [],
   "source": [
    "continents_types = []\n",
    "\n",
    "for animal in animals_raw:\n",
    "    for continent in animal[\"Continents\"]:\n",
    "        continents_types.append(continent)\n",
    "        \n",
    "continents_types = set(continents_types)"
   ]
  },
  {
   "cell_type": "code",
   "execution_count": 8,
   "metadata": {},
   "outputs": [],
   "source": [
    "africa = []\n",
    "antarctica = []\n",
    "asia = []\n",
    "europe = []\n",
    "north_america = []\n",
    "oceania = []\n",
    "south_america = []\n",
    "\n",
    "for animal in animals_raw:\n",
    "    if \"Africa\" in animal[\"Continents\"]:\n",
    "        africa.append(1)\n",
    "        \n",
    "    else:\n",
    "        africa.append(0)\n",
    "        \n",
    "    if \"Antarctica\" in animal[\"Continents\"]:\n",
    "        antarctica.append(1)\n",
    "        \n",
    "    else:\n",
    "        antarctica.append(0)\n",
    "        \n",
    "    if \"Asia\" in animal[\"Continents\"]:\n",
    "        asia.append(1)\n",
    "        \n",
    "    else:\n",
    "        asia.append(0)\n",
    "        \n",
    "    if \"Europe\" in animal[\"Continents\"]:\n",
    "        europe.append(1)\n",
    "        \n",
    "    else:\n",
    "        europe.append(0)\n",
    "        \n",
    "    if \"North America\" in animal[\"Continents\"]:\n",
    "        north_america.append(1)\n",
    "        \n",
    "    else:\n",
    "        north_america.append(0)\n",
    "        \n",
    "    if (\"Oceania\" in animal[\"Continents\"]) or (\"New Zealand\" in animal[\"Continents\"]):\n",
    "        oceania.append(1)\n",
    "        \n",
    "    else:\n",
    "        oceania.append(0)\n",
    "        \n",
    "    if \"South America\" in animal[\"Continents\"]:\n",
    "        south_america.append(1)\n",
    "        \n",
    "    else:\n",
    "        south_america.append(0)"
   ]
  },
  {
   "cell_type": "code",
   "execution_count": 9,
   "metadata": {},
   "outputs": [],
   "source": [
    "climates_types = []\n",
    "\n",
    "for animal in animals_raw:\n",
    "    for climate in animal[\"Climate\"]:\n",
    "        climates_types.append(climate)\n",
    "        \n",
    "climates_types = set(climates_types)"
   ]
  },
  {
   "cell_type": "code",
   "execution_count": 10,
   "metadata": {},
   "outputs": [],
   "source": [
    "arid = []\n",
    "cold = []\n",
    "polar = []\n",
    "temperate = []\n",
    "tropical = []\n",
    "\n",
    "for animal in animals_raw:\n",
    "    if \"Arid\" in animal[\"Climate\"]:\n",
    "        arid.append(1)\n",
    "        \n",
    "    else:\n",
    "        arid.append(0)\n",
    "        \n",
    "    if \"Cold\" in animal[\"Climate\"]:\n",
    "        cold.append(1)\n",
    "        \n",
    "    else:\n",
    "        cold.append(0)\n",
    "        \n",
    "    if \"Polar\" in animal[\"Climate\"]:\n",
    "        polar.append(1)\n",
    "        \n",
    "    else:\n",
    "        polar.append(0)\n",
    "        \n",
    "    if \"Temperate\" in animal[\"Climate\"]:\n",
    "        temperate.append(1)\n",
    "        \n",
    "    else:\n",
    "        temperate.append(0)\n",
    "        \n",
    "    if \"Tropical\" in animal[\"Climate\"]:\n",
    "        tropical.append(1)\n",
    "        \n",
    "    else:\n",
    "        tropical.append(0)"
   ]
  },
  {
   "cell_type": "markdown",
   "metadata": {},
   "source": [
    "The 'Diet' column will be encoded as follows:\n",
    "* 0 - Omnivore animals\n",
    "* 1 - Carnivore animals\n",
    "* 2 - Herbivore animals\n",
    "* 3 - Insect diet animals"
   ]
  },
  {
   "cell_type": "code",
   "execution_count": 11,
   "metadata": {},
   "outputs": [],
   "source": [
    "diets_types = []\n",
    "\n",
    "for animal in animals_raw:\n",
    "    try:\n",
    "        for diet in animal[\"Diet\"]:\n",
    "            diets_types.append(diet)\n",
    "    \n",
    "    except:\n",
    "        pass\n",
    "        \n",
    "diets_types = set(diets_types)"
   ]
  },
  {
   "cell_type": "code",
   "execution_count": 12,
   "metadata": {},
   "outputs": [],
   "source": [
    "carnivore_animals = [\"Carnivore\", \"House Mouse\", \"Hypercarnivore\", \"Insectivores\", \"Mesopredator\", \"Molluscivore\", \n",
    "                    \"Piscivores\", \"Predator\", \"Scavenger\"]\n",
    "\n",
    "herbivore_animals = [\"Algivore\", \"Folivore\", \"Frugivore\", \"Graminivore\", \"Granivore\", \"Herbivore\", \"Lignivore\", \n",
    "                    \"Nectarivore\", \"Palynivore\"]\n",
    "\n",
    "insect_diet_animals = [\"Myrmecophagous\", \"Vermivorous\"]\n",
    "\n",
    "omnivore_animals = [\"Omnivore\"]"
   ]
  },
  {
   "cell_type": "code",
   "execution_count": 13,
   "metadata": {},
   "outputs": [],
   "source": [
    "diet = []\n",
    "\n",
    "for animal in animals_raw:\n",
    "    carnivore_classification = 0\n",
    "    herbivore_classification = 0\n",
    "    insect_classification = 0\n",
    "    \n",
    "    for diet_type in animal[\"Diet\"]:\n",
    "        if diet_type in carnivore_animals:\n",
    "            carnivore_classification = 1\n",
    "            \n",
    "        elif diet_type in herbivore_animals:\n",
    "            herbivore_classification = 1\n",
    "            \n",
    "        elif diet_type in insect_diet_animals:\n",
    "            insect_classification = 1\n",
    "            \n",
    "    if (carnivore_classification + herbivore_classification + insect_classification) > 1:\n",
    "        diet.append(0)\n",
    "        \n",
    "    else:\n",
    "        if carnivore_classification == 1:\n",
    "            diet.append(1)\n",
    "            \n",
    "        elif herbivore_classification == 1:\n",
    "            diet.append(2)\n",
    "            \n",
    "        elif insect_classification == 1:\n",
    "            diet.append(3)\n",
    "            \n",
    "        else:\n",
    "            diet.append(0)"
   ]
  },
  {
   "cell_type": "code",
   "execution_count": 14,
   "metadata": {
    "scrolled": true
   },
   "outputs": [],
   "source": [
    "trends_types = []\n",
    "\n",
    "for animal in animals_raw:\n",
    "    try:\n",
    "        trends_types.append(animal[\"Trend\"])\n",
    "        \n",
    "    except:\n",
    "        pass\n",
    "\n",
    "trends_types = set(trends_types)"
   ]
  },
  {
   "cell_type": "markdown",
   "metadata": {},
   "source": [
    "The 'Trend' column will be encoded as following:\n",
    "* 0 - None\n",
    "* 1 - Decreasing\n",
    "* 2 - Stable\n",
    "* 3 - Increasing"
   ]
  },
  {
   "cell_type": "code",
   "execution_count": 15,
   "metadata": {},
   "outputs": [],
   "source": [
    "population_trend = []\n",
    "\n",
    "for animal in animals_raw:\n",
    "    if animal[\"Trend\"] == \"Increasing\":\n",
    "        population_trend.append(3)\n",
    "        \n",
    "    elif animal[\"Trend\"] == \"Stable\":\n",
    "        population_trend.append(2)\n",
    "        \n",
    "    elif animal[\"Trend\"] == \"Decreasing\":\n",
    "        population_trend.append(1)\n",
    "        \n",
    "    else:\n",
    "        population_trend.append(0)"
   ]
  },
  {
   "cell_type": "code",
   "execution_count": 16,
   "metadata": {},
   "outputs": [],
   "source": [
    "status_types = []\n",
    "\n",
    "for animal in animals_raw:\n",
    "    try:\n",
    "        status_types.append(animal[\"Status\"])\n",
    "        \n",
    "    except:\n",
    "        pass\n",
    "\n",
    "status_types = set(status_types)"
   ]
  },
  {
   "cell_type": "markdown",
   "metadata": {},
   "source": [
    "The 'Status' column will be encoded as following:\n",
    "* 0 - Not enough information\n",
    "* 1 - Not in danger\n",
    "* 2 - In danger"
   ]
  },
  {
   "cell_type": "code",
   "execution_count": 17,
   "metadata": {},
   "outputs": [],
   "source": [
    "no_information = [\"Data deficient (DD)\", \"Not evaluated (NE)\"]\n",
    "\n",
    "not_in_danger = [\"Least concern (LC)\", \"Near Threatened (NT)\", \"Stable\"]\n",
    "\n",
    "in_danger = [\"Critically endangered (CR)\", \"Decreasing\", \"Endangered (EN)\", \"Extinct (EX)\", \"Extinct in the wild (EW)\", \n",
    "            \"Vulnerable (VU)\"]"
   ]
  },
  {
   "cell_type": "code",
   "execution_count": 18,
   "metadata": {},
   "outputs": [],
   "source": [
    "population_status = []\n",
    "\n",
    "for animal in animals_raw:\n",
    "    if animal[\"Status\"] in no_information:\n",
    "        population_status.append(0)\n",
    "        \n",
    "    elif animal[\"Status\"] in not_in_danger:\n",
    "        population_status.append(1)\n",
    "        \n",
    "    else:\n",
    "        population_status.append(2)"
   ]
  },
  {
   "cell_type": "code",
   "execution_count": 19,
   "metadata": {},
   "outputs": [],
   "source": [
    "mating_behavior_types = []\n",
    "\n",
    "for animal in animals_raw:\n",
    "    try:\n",
    "        mating_behavior_types.append(animal[\"Mating Behavior\"])\n",
    "        \n",
    "    except:\n",
    "        pass\n",
    "\n",
    "mating_behavior_types = set(mating_behavior_types)"
   ]
  },
  {
   "cell_type": "markdown",
   "metadata": {},
   "source": [
    "The 'Mating Behavior' column will be encoded as following:\n",
    "\n",
    "* 0 - Monogamy \n",
    "* 1 - Polyandry\n",
    "* 2 - Both Monogany and Polyandry"
   ]
  },
  {
   "cell_type": "code",
   "execution_count": 20,
   "metadata": {},
   "outputs": [],
   "source": [
    "monogany = ['Monogamy','Monogamy, Serial monogamy', 'Serial monogamy']\n",
    "\n",
    "polyandry = ['Polyandry','Polyandry, Polygyny, Polygynandry','Polygamy','Polygynandry','Polygynandry, Polyandry',\n",
    "             'Polygynandry, Polygyny', 'Polygyny','Polygyny, Polyandry','Polygyny, Polyandry, Polygynandry',\n",
    "             'Polygyny, Polygynandry']\n",
    "\n",
    "both_monogany_polyandry = ['Monogamy, Polyandry','Monogamy, Polygynandry','Monogamy, Polygyny',\n",
    "                           'Monogamy, Polygyny, Polyandry','Monogamy, Polygyny, Polygynandry','Monogamy, Serial monogamy, Polyandry',\n",
    "                          'Polygynandry, Serial monogamy' ,'Polygyny, Monogamy','Polygyny, Serial monogamy',\n",
    "                           'Serial monogamy, Polyandry','Serial monogamy, Polygyny']"
   ]
  },
  {
   "cell_type": "code",
   "execution_count": 21,
   "metadata": {},
   "outputs": [],
   "source": [
    "mating_behavior = []\n",
    "\n",
    "for animal in animals_raw:\n",
    "    if animal[\"Mating Behavior\"] in monogany:\n",
    "        mating_behavior.append(0)\n",
    "        \n",
    "    elif animal[\"Mating Behavior\"] in polyandry:\n",
    "        mating_behavior.append(1)\n",
    "        \n",
    "    else:\n",
    "        mating_behavior.append(2)"
   ]
  },
  {
   "cell_type": "code",
   "execution_count": 22,
   "metadata": {},
   "outputs": [],
   "source": [
    "animals_data = {\"Name\": animals_name,\n",
    "               \"Scientific Name\": animals_scientific_name,\n",
    "               \"Class\": animals_class,\n",
    "               \"Family\": animals_family,\n",
    "               \"Lifespan (years)\": animals_lifespan,\n",
    "               \"Top Speed (km/h)\": animals_topspeed,\n",
    "               \"Weight (kg)\": animals_weight,\n",
    "               \"Length (cm)\": animals_length,\n",
    "               \"Diet\": diet,\n",
    "               \"Population Trend\": population_trend,\n",
    "               \"Population Status\": population_status,\n",
    "               \"Mating Behavior\": mating_behavior,\n",
    "               \"Arid Climate\": arid,\n",
    "               \"Cold Climate\": cold,\n",
    "               \"Polar Climate\": polar,\n",
    "               \"Temperate Climate\": temperate,\n",
    "               \"Tropical Climate\": tropical,\n",
    "               \"Africa\": africa,\n",
    "               \"Antarctica\": antarctica,\n",
    "               \"Asia\": asia,\n",
    "               \"Europe\": europe,\n",
    "               \"North America\": north_america,\n",
    "               \"Oceania\": oceania,\n",
    "               \"South America\": south_america}"
   ]
  },
  {
   "cell_type": "code",
   "execution_count": 23,
   "metadata": {},
   "outputs": [],
   "source": [
    "animals_df = pd.DataFrame(data = animals_data)"
   ]
  },
  {
   "cell_type": "code",
   "execution_count": 25,
   "metadata": {},
   "outputs": [],
   "source": [
    "animals_df.to_csv(path_or_buf = \"animals_df.csv\", index = False)"
   ]
  }
 ],
 "metadata": {
  "kernelspec": {
   "display_name": "Python 3",
   "language": "python",
   "name": "python3"
  },
  "language_info": {
   "codemirror_mode": {
    "name": "ipython",
    "version": 3
   },
   "file_extension": ".py",
   "mimetype": "text/x-python",
   "name": "python",
   "nbconvert_exporter": "python",
   "pygments_lexer": "ipython3",
   "version": "3.8.3"
  }
 },
 "nbformat": 4,
 "nbformat_minor": 4
}
