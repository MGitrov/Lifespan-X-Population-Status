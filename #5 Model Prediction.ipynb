{
 "cells": [
  {
   "cell_type": "code",
   "execution_count": 19,
   "metadata": {},
   "outputs": [],
   "source": [
    "import pandas as pd\n",
    "from sklearn.preprocessing import StandardScaler\n",
    "from sklearn.linear_model import LinearRegression\n",
    "from sklearn.linear_model import LogisticRegression\n",
    "from sklearn.model_selection import train_test_split\n",
    "from sklearn.metrics import r2_score, f1_score, mean_squared_error, confusion_matrix"
   ]
  },
  {
   "cell_type": "code",
   "execution_count": 2,
   "metadata": {},
   "outputs": [
    {
     "name": "stdout",
     "output_type": "stream",
     "text": [
      "<class 'pandas.core.frame.DataFrame'>\n",
      "RangeIndex: 1576 entries, 0 to 1575\n",
      "Data columns (total 24 columns):\n",
      " #   Column             Non-Null Count  Dtype  \n",
      "---  ------             --------------  -----  \n",
      " 0   Name               1576 non-null   object \n",
      " 1   Scientific Name    1576 non-null   object \n",
      " 2   Class              1576 non-null   object \n",
      " 3   Family             1576 non-null   object \n",
      " 4   Lifespan (years)   1576 non-null   float64\n",
      " 5   Top Speed (km/h)   1576 non-null   float64\n",
      " 6   Weight (kg)        1576 non-null   float64\n",
      " 7   Length (cm)        1576 non-null   float64\n",
      " 8   Diet               1576 non-null   int64  \n",
      " 9   Population Trend   1576 non-null   int64  \n",
      " 10  Population Status  1576 non-null   int64  \n",
      " 11  Mating Behavior    1576 non-null   int64  \n",
      " 12  Arid Climate       1576 non-null   int64  \n",
      " 13  Cold Climate       1576 non-null   int64  \n",
      " 14  Polar Climate      1576 non-null   int64  \n",
      " 15  Temperate Climate  1576 non-null   int64  \n",
      " 16  Tropical Climate   1576 non-null   int64  \n",
      " 17  Africa             1576 non-null   int64  \n",
      " 18  Antarctica         1576 non-null   int64  \n",
      " 19  Asia               1576 non-null   int64  \n",
      " 20  Europe             1576 non-null   int64  \n",
      " 21  North America      1576 non-null   int64  \n",
      " 22  Oceania            1576 non-null   int64  \n",
      " 23  South America      1576 non-null   int64  \n",
      "dtypes: float64(4), int64(16), object(4)\n",
      "memory usage: 295.6+ KB\n"
     ]
    }
   ],
   "source": [
    "animals_df = pd.read_csv('animals_df_updated.csv')\n",
    "animals_df.info()"
   ]
  },
  {
   "cell_type": "code",
   "execution_count": 3,
   "metadata": {},
   "outputs": [],
   "source": [
    "animals_df.set_index(keys = \"Name\", inplace = True)\n",
    "ml_df = animals_df.drop(labels = [\"Scientific Name\", \"Class\", \"Family\"], axis = 1)"
   ]
  },
  {
   "cell_type": "code",
   "execution_count": 4,
   "metadata": {},
   "outputs": [
    {
     "data": {
      "text/html": [
       "<div>\n",
       "<style scoped>\n",
       "    .dataframe tbody tr th:only-of-type {\n",
       "        vertical-align: middle;\n",
       "    }\n",
       "\n",
       "    .dataframe tbody tr th {\n",
       "        vertical-align: top;\n",
       "    }\n",
       "\n",
       "    .dataframe thead th {\n",
       "        text-align: right;\n",
       "    }\n",
       "</style>\n",
       "<table border=\"1\" class=\"dataframe\">\n",
       "  <thead>\n",
       "    <tr style=\"text-align: right;\">\n",
       "      <th></th>\n",
       "      <th>Actual</th>\n",
       "      <th>Predicted</th>\n",
       "    </tr>\n",
       "    <tr>\n",
       "      <th>Name</th>\n",
       "      <th></th>\n",
       "      <th></th>\n",
       "    </tr>\n",
       "  </thead>\n",
       "  <tbody>\n",
       "    <tr>\n",
       "      <th>Australian Pelican</th>\n",
       "      <td>20.000000</td>\n",
       "      <td>19.451970</td>\n",
       "    </tr>\n",
       "    <tr>\n",
       "      <th>Long-Eared Jerboa</th>\n",
       "      <td>2.500000</td>\n",
       "      <td>13.754646</td>\n",
       "    </tr>\n",
       "    <tr>\n",
       "      <th>Lear's Macaw</th>\n",
       "      <td>45.000000</td>\n",
       "      <td>23.477172</td>\n",
       "    </tr>\n",
       "    <tr>\n",
       "      <th>Bearded Seal</th>\n",
       "      <td>31.000000</td>\n",
       "      <td>26.475846</td>\n",
       "    </tr>\n",
       "    <tr>\n",
       "      <th>Richardson's Ground Squirrel</th>\n",
       "      <td>3.000000</td>\n",
       "      <td>11.109430</td>\n",
       "    </tr>\n",
       "    <tr>\n",
       "      <th>Sunda Pangolin</th>\n",
       "      <td>18.121027</td>\n",
       "      <td>23.381302</td>\n",
       "    </tr>\n",
       "    <tr>\n",
       "      <th>Eastern Coral Snake</th>\n",
       "      <td>7.000000</td>\n",
       "      <td>14.582232</td>\n",
       "    </tr>\n",
       "    <tr>\n",
       "      <th>Galápagos Fur Seal</th>\n",
       "      <td>22.000000</td>\n",
       "      <td>27.072146</td>\n",
       "    </tr>\n",
       "    <tr>\n",
       "      <th>Desert Horned Lizard</th>\n",
       "      <td>6.500000</td>\n",
       "      <td>9.148017</td>\n",
       "    </tr>\n",
       "    <tr>\n",
       "      <th>Egyptian Tortoise</th>\n",
       "      <td>50.000000</td>\n",
       "      <td>24.194614</td>\n",
       "    </tr>\n",
       "  </tbody>\n",
       "</table>\n",
       "</div>"
      ],
      "text/plain": [
       "                                 Actual  Predicted\n",
       "Name                                              \n",
       "Australian Pelican            20.000000  19.451970\n",
       "Long-Eared Jerboa              2.500000  13.754646\n",
       "Lear's Macaw                  45.000000  23.477172\n",
       "Bearded Seal                  31.000000  26.475846\n",
       "Richardson's Ground Squirrel   3.000000  11.109430\n",
       "Sunda Pangolin                18.121027  23.381302\n",
       "Eastern Coral Snake            7.000000  14.582232\n",
       "Galápagos Fur Seal            22.000000  27.072146\n",
       "Desert Horned Lizard           6.500000   9.148017\n",
       "Egyptian Tortoise             50.000000  24.194614"
      ]
     },
     "execution_count": 4,
     "metadata": {},
     "output_type": "execute_result"
    }
   ],
   "source": [
    "training_features = ml_df.columns[ml_df.columns != \"Lifespan (years)\"]\n",
    "target_feature = \"Lifespan (years)\"\n",
    "\n",
    "X = ml_df[training_features]\n",
    "y = ml_df[target_feature]\n",
    "\n",
    "X_train, X_test, y_train, y_test = train_test_split(X, y, test_size = 0.2, random_state = 45)\n",
    "\n",
    "scaler = StandardScaler()\n",
    "X_train_scaled = scaler.fit_transform(X_train)\n",
    "X_test_scaled = scaler.transform(X_test)\n",
    "\n",
    "regressor = LinearRegression().fit(X = X_train, y = y_train)\n",
    "y_pred = regressor.predict(X_test)\n",
    "\n",
    "lifespan_comparison_df = pd.DataFrame({\"Actual\": y_test, \"Predicted\": y_pred})\n",
    "lifespan_comparison_df.sample(10)"
   ]
  },
  {
   "cell_type": "code",
   "execution_count": 5,
   "metadata": {},
   "outputs": [
    {
     "data": {
      "text/plain": [
       "41.14420781592373"
      ]
     },
     "execution_count": 5,
     "metadata": {},
     "output_type": "execute_result"
    }
   ],
   "source": [
    "r2_score(y_test, y_pred) * 100"
   ]
  },
  {
   "cell_type": "code",
   "execution_count": 18,
   "metadata": {},
   "outputs": [
    {
     "data": {
      "text/plain": [
       "147.2282830667223"
      ]
     },
     "execution_count": 18,
     "metadata": {},
     "output_type": "execute_result"
    }
   ],
   "source": [
    "mean_squared_error(y_true = y_test, y_pred = y_pred)"
   ]
  },
  {
   "cell_type": "code",
   "execution_count": 8,
   "metadata": {},
   "outputs": [],
   "source": [
    "status_df = ml_df[(ml_df[\"Population Status\"] == 1) | (ml_df[\"Population Status\"] == 2)]"
   ]
  },
  {
   "cell_type": "code",
   "execution_count": 9,
   "metadata": {},
   "outputs": [
    {
     "data": {
      "text/html": [
       "<div>\n",
       "<style scoped>\n",
       "    .dataframe tbody tr th:only-of-type {\n",
       "        vertical-align: middle;\n",
       "    }\n",
       "\n",
       "    .dataframe tbody tr th {\n",
       "        vertical-align: top;\n",
       "    }\n",
       "\n",
       "    .dataframe thead th {\n",
       "        text-align: right;\n",
       "    }\n",
       "</style>\n",
       "<table border=\"1\" class=\"dataframe\">\n",
       "  <thead>\n",
       "    <tr style=\"text-align: right;\">\n",
       "      <th></th>\n",
       "      <th>Actual</th>\n",
       "      <th>Predicted</th>\n",
       "    </tr>\n",
       "    <tr>\n",
       "      <th>Name</th>\n",
       "      <th></th>\n",
       "      <th></th>\n",
       "    </tr>\n",
       "  </thead>\n",
       "  <tbody>\n",
       "    <tr>\n",
       "      <th>Black Rat</th>\n",
       "      <td>1</td>\n",
       "      <td>1</td>\n",
       "    </tr>\n",
       "    <tr>\n",
       "      <th>Eastern Coral Snake</th>\n",
       "      <td>1</td>\n",
       "      <td>1</td>\n",
       "    </tr>\n",
       "    <tr>\n",
       "      <th>Lear's Macaw</th>\n",
       "      <td>2</td>\n",
       "      <td>1</td>\n",
       "    </tr>\n",
       "    <tr>\n",
       "      <th>Red Knot</th>\n",
       "      <td>1</td>\n",
       "      <td>1</td>\n",
       "    </tr>\n",
       "    <tr>\n",
       "      <th>Patagonian Mara</th>\n",
       "      <td>1</td>\n",
       "      <td>1</td>\n",
       "    </tr>\n",
       "    <tr>\n",
       "      <th>Rough-Toothed Dolphin</th>\n",
       "      <td>1</td>\n",
       "      <td>1</td>\n",
       "    </tr>\n",
       "    <tr>\n",
       "      <th>Nicobar Pigeon</th>\n",
       "      <td>1</td>\n",
       "      <td>1</td>\n",
       "    </tr>\n",
       "    <tr>\n",
       "      <th>Water Deer</th>\n",
       "      <td>2</td>\n",
       "      <td>1</td>\n",
       "    </tr>\n",
       "    <tr>\n",
       "      <th>Resplendent Quetzal</th>\n",
       "      <td>1</td>\n",
       "      <td>1</td>\n",
       "    </tr>\n",
       "    <tr>\n",
       "      <th>Ribbon Seal</th>\n",
       "      <td>1</td>\n",
       "      <td>1</td>\n",
       "    </tr>\n",
       "  </tbody>\n",
       "</table>\n",
       "</div>"
      ],
      "text/plain": [
       "                       Actual  Predicted\n",
       "Name                                    \n",
       "Black Rat                   1          1\n",
       "Eastern Coral Snake         1          1\n",
       "Lear's Macaw                2          1\n",
       "Red Knot                    1          1\n",
       "Patagonian Mara             1          1\n",
       "Rough-Toothed Dolphin       1          1\n",
       "Nicobar Pigeon              1          1\n",
       "Water Deer                  2          1\n",
       "Resplendent Quetzal         1          1\n",
       "Ribbon Seal                 1          1"
      ]
     },
     "execution_count": 9,
     "metadata": {},
     "output_type": "execute_result"
    }
   ],
   "source": [
    "trn_features = status_df.columns[status_df.columns != \"Population Status\"]\n",
    "trgt_feature = \"Population Status\"\n",
    "X2 = status_df[trn_features]\n",
    "y2 = status_df[trgt_feature]\n",
    "\n",
    "X_train2, X_test2, y_train2, y_test2 = train_test_split(X2, y2, test_size = 0.2, random_state = 33)\n",
    "\n",
    "scaler = StandardScaler()\n",
    "X_train_scaled = scaler.fit_transform(X_train2)\n",
    "X_test_scaled = scaler.transform(X_test2)\n",
    "\n",
    "lr = LogisticRegression(max_iter = 279).fit(X = X_train2, y = y_train2)\n",
    "y_pred2 = lr.predict(X_test2)\n",
    "\n",
    "status_comparison_df = pd.DataFrame({\"Actual\": y_test2, \"Predicted\": y_pred2})\n",
    "status_comparison_df.sample(10)"
   ]
  },
  {
   "cell_type": "code",
   "execution_count": 21,
   "metadata": {},
   "outputs": [
    {
     "data": {
      "text/plain": [
       "87.52642706131078"
      ]
     },
     "execution_count": 21,
     "metadata": {},
     "output_type": "execute_result"
    }
   ],
   "source": [
    "f1_score(y_test2, y_pred2) * 100"
   ]
  },
  {
   "cell_type": "markdown",
   "metadata": {},
   "source": [
    "According to the confusion matrix, the model managed to predict the correct population status for 241 animals, and for 59 animals he was wrong."
   ]
  },
  {
   "cell_type": "code",
   "execution_count": 22,
   "metadata": {},
   "outputs": [
    {
     "data": {
      "text/plain": [
       "array([[207,  23],\n",
       "       [ 36,  34]], dtype=int64)"
      ]
     },
     "execution_count": 22,
     "metadata": {},
     "output_type": "execute_result"
    }
   ],
   "source": [
    "confusion_matrix(y_test2, y_pred2)"
   ]
  }
 ],
 "metadata": {
  "kernelspec": {
   "display_name": "Python 3",
   "language": "python",
   "name": "python3"
  },
  "language_info": {
   "codemirror_mode": {
    "name": "ipython",
    "version": 3
   },
   "file_extension": ".py",
   "mimetype": "text/x-python",
   "name": "python",
   "nbconvert_exporter": "python",
   "pygments_lexer": "ipython3",
   "version": "3.8.3"
  }
 },
 "nbformat": 4,
 "nbformat_minor": 5
}
