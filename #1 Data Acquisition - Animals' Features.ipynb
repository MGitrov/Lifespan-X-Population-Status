{
 "cells": [
  {
   "cell_type": "code",
   "execution_count": 1,
   "metadata": {},
   "outputs": [],
   "source": [
    "import requests\n",
    "from bs4 import BeautifulSoup\n",
    "import json"
   ]
  },
  {
   "cell_type": "markdown",
   "metadata": {},
   "source": [
    "## Extracting each animal url from our file"
   ]
  },
  {
   "cell_type": "code",
   "execution_count": 2,
   "metadata": {},
   "outputs": [],
   "source": [
    "animals_urls = []\n",
    "\n",
    "with open(\"animals'_urls.txt\", mode = \"r\") as f:\n",
    "    animals_urls = f.read().split(\"\\n\")"
   ]
  },
  {
   "cell_type": "markdown",
   "metadata": {},
   "source": [
    "## Request for each url"
   ]
  },
  {
   "cell_type": "code",
   "execution_count": 3,
   "metadata": {},
   "outputs": [],
   "source": [
    "def request_soup(url):\n",
    "    animal_request = requests.get(url)\n",
    "    animal_bs = BeautifulSoup(animal_request.text, \"html.parser\")\n",
    "    return animal_bs"
   ]
  },
  {
   "cell_type": "markdown",
   "metadata": {},
   "source": [
    "## Crawling"
   ]
  },
  {
   "cell_type": "code",
   "execution_count": 6,
   "metadata": {},
   "outputs": [],
   "source": [
    "def crawling(animal_bs):\n",
    "    animals_dictionary = {}\n",
    "    \n",
    "    ''' \n",
    "    Animal's name \n",
    "    '''\n",
    "    animal_name = animal_bs(\"h1\", attrs = {\"class\": \"a-h1\"})[0].getText().replace(\"\\n\", \"\").replace(\"  \", \"\")\n",
    "    animals_dictionary[\"Name\"] = animal_name\n",
    "    \n",
    "    '''\n",
    "    NTTP - Next to the picture\n",
    "    '''\n",
    "    nttp_names = [name.getText().replace(\"\\n\", \"\").replace(\" \", \"\") for name in animal_bs(\"div\", attrs = {\"class\": \"s-char-kinds__attr\"})]\n",
    "    nttp_data = [data.getText() for data in animal_bs(\"a\", attrs = {\"class\": \"s-char-kinds__name\"})]\n",
    "    nttp_data.append(animal_bs(\"div\", attrs = {\"class\": \"col-8 s-char-kinds__name unactive\"})[0].getText().replace(\"\\n\", \"\").replace(\"  \", \"\"))\n",
    "    \n",
    "    for i in range(len(nttp_names)):\n",
    "        animals_dictionary[nttp_names[i]] = nttp_data[i]\n",
    "    \n",
    "    '''\n",
    "    UTP - Under the picture\n",
    "    '''\n",
    "    utp_names = [name.getText() for name in animal_bs(\"div\", attrs = {\"class\": \"s-char-char__name\"})]\n",
    "    utp_data = [data.getText() for data in animal_bs(\"div\", attrs = {\"class\": \"s-char-char__num\"})]\n",
    "    \n",
    "    for i in range(len(utp_names)):\n",
    "        animals_dictionary[utp_names[i]] = utp_data[i]\n",
    "    \n",
    "    '''\n",
    "    Animal's continent(s)\n",
    "    '''\n",
    "    animal_continent = [continent.getText().replace(\", \", \"\").replace(\"  \", \"\") for continent in animal_bs(\"div\", attrs = {\"class\": \"col-sm-10\"})[0].findAll(\"a\")]\n",
    "    animals_dictionary[\"Continents\"] = animal_continent\n",
    "    \n",
    "    '''\n",
    "    Animal's climate\n",
    "    '''\n",
    "    animal_climate = [climate.getText() for climate in animal_bs.select(\".s-distr-climate a span\")]\n",
    "    animals_dictionary[\"Climate\"] = animal_climate\n",
    "    \n",
    "    '''\n",
    "    Animal's lifestyle\n",
    "    '''\n",
    "    animal_lifestyle = [lifestyle.getText().replace(\", \", \"\").replace(\"  \", \"\") \n",
    "                        for lifestyle in animal_bs(\"div\", attrs = {\"class\": \"col-sm-9\"})[0].findAll(\"a\")]\n",
    "    \n",
    "    if len(animal_bs(\"div\", attrs = {\"class\": \"col-sm-9\"})) >= 2:\n",
    "        animal_lifestyle = [lifestyle.getText().replace(\", \", \"\").replace(\"  \", \"\") \n",
    "                            for lifestyle in animal_bs(\"div\", attrs = {\"class\": \"col-sm-9\"})[1].findAll(\"a\")]\n",
    "        \n",
    "    animals_dictionary[\"Lifestyle\"] = animal_lifestyle\n",
    "    \n",
    "    '''\n",
    "    Animal's diet\n",
    "    '''\n",
    "    animal_diet = [diet.getText().replace(\"\\n\", \"\").replace(\", \", \"\").replace(\"  \", \"\") for diet in animal_bs.select(\".s-diet-item__link\")]\n",
    "    animals_dictionary[\"Diet\"] = animal_diet\n",
    "    \n",
    "    '''\n",
    "    Animal's population\n",
    "    '''\n",
    "    try:\n",
    "        animal_trend = animal_bs.select(\".s-population__link\")[0].getText()\n",
    "        animal_status = animal_bs.select(\".s-population__link\")[1].getText()\n",
    "    \n",
    "    except:\n",
    "        animal_trend = None; animal_status = animal_bs.select(\".s-population__link\")[0].getText()\n",
    "        \n",
    "    finally:\n",
    "        animals_dictionary[\"Trend\"] = animal_trend\n",
    "        animals_dictionary[\"Status\"] = animal_status\n",
    "        \n",
    "    '''\n",
    "    Animal's mating behavior\n",
    "    '''\n",
    "    animal_mating = None\n",
    "    \n",
    "    if animal_bs.select(\".s-mating-slug__text\")[0].getText() == \"MATING BEHAVIOR\":\n",
    "        animal_mating = animal_bs.select(\".s-mating-char\")[0].getText().replace(\"\\n\", \"\").replace(\"  \", \"\")\n",
    "  \n",
    "    animals_dictionary[\"Mating Behavior\"] = animal_mating\n",
    "    \n",
    "    return animals_dictionary"
   ]
  },
  {
   "cell_type": "code",
   "execution_count": 7,
   "metadata": {},
   "outputs": [],
   "source": [
    "animals_list = []\n",
    "\n",
    "for animal in animals_urls:\n",
    "    try:\n",
    "        animal_bs = request_soup(animal)\n",
    "        animals_list.append(crawling(animal_bs))\n",
    "\n",
    "    except:\n",
    "        pass"
   ]
  },
  {
   "cell_type": "code",
   "execution_count": 9,
   "metadata": {},
   "outputs": [],
   "source": [
    "'''\n",
    "The f.write() method accepts only string as parameter, so we have to convert our list into json.\n",
    "'''\n",
    "animals_json = json.dumps(animals_list)\n",
    "\n",
    "with open(\"animals'_raw.txt\", mode = \"w\") as f:\n",
    "    f.write(animals_json)"
   ]
  }
 ],
 "metadata": {
  "kernelspec": {
   "display_name": "Python 3",
   "language": "python",
   "name": "python3"
  },
  "language_info": {
   "codemirror_mode": {
    "name": "ipython",
    "version": 3
   },
   "file_extension": ".py",
   "mimetype": "text/x-python",
   "name": "python",
   "nbconvert_exporter": "python",
   "pygments_lexer": "ipython3",
   "version": "3.8.3"
  }
 },
 "nbformat": 4,
 "nbformat_minor": 4
}
